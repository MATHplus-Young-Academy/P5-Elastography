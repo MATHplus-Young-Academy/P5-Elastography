{
 "cells": [
  {
   "cell_type": "markdown",
   "id": "58a946fe",
   "metadata": {},
   "source": [
    "# FV Estimation Brain"
   ]
  },
  {
   "cell_type": "code",
   "execution_count": 183,
   "id": "2c72fb02",
   "metadata": {},
   "outputs": [],
   "source": [
    "import scipy.io as sio\n",
    "import numpy as np\n",
    "from scipy.fft import fft, ifft\n",
    "import matplotlib.pyplot as plt\n",
    "\n",
    "# some physical parameters\n",
    "dx  = 1e-2; # 1 cm\n",
    "dy  = 1e-2;\n",
    "dz  = 1;\n",
    "rho = 1e3; # 1 g/cm^3\n",
    "\n",
    "# Color axis limits\n",
    "Gmin = 2.5e3; #  2.5 KPa\n",
    "Gmax = 1.05e4;# 10.5 KPa\n",
    "\n",
    "_nenc = 1\n",
    "nf = 1\n",
    "nx = 14\n",
    "ny = 17\n",
    "nz = 3\n",
    "\n",
    "# simulated frequencies: 50Hz, 60Hz, 70Hz and 80Hz\n",
    "freq = [25];\n",
    "\n",
    "time0 = 55\n",
    "ntimes = 25\n",
    "\n",
    "# measures = data[time][X][Y][Z]\n",
    "data = []\n",
    "for t in range(time0,time0+ntimes):\n",
    "    datax = np.genfromtxt('../data/synthetic/brain/measures_x.000' + str(t) +'.txt')\n",
    "    datay = np.genfromtxt('../data/synthetic/brain/measures_y.000' + str(t) +'.txt')\n",
    "    dataz = np.genfromtxt('../data/synthetic/brain/measures_z.000' + str(t) +'.txt')\n",
    "    data.append([datax,datay,dataz])\n"
   ]
  },
  {
   "cell_type": "code",
   "execution_count": 184,
   "id": "1b119453",
   "metadata": {},
   "outputs": [],
   "source": [
    "def show_images(Uc,i,n):\n",
    "    for k in range(0,n):\n",
    "        plt.title(\"Slice \" + str(k))\n",
    "        plt.imshow(abs(Uc[:,:,k,i,0]))\n",
    "        plt.colorbar()\n",
    "        plt.show()\n",
    "\n",
    "'''\n",
    "function Du = DUdxdy(u,[dx,dy,dz],i,j,k)\n",
    "\n",
    "Evaluate local term for int_(front-back) du/dx_i dxdy\n",
    "\n",
    "matrix 'u' is an NxMxL array built using meshgrid\n",
    "'''\n",
    "def DUdxdy(u,D,i,j,k):\n",
    "    Du = [0,0,0]\n",
    "    Du[0] = 0.25*D[1]*(u[i-1,j,k+1] + u[i+1,j,k-1] - u[i+1,j,k+1] - u[i-1,j,k-1])\n",
    "    Du[1] = 0.25*D[0]*(u[i,j-1,k+1] + u[i,j+1,k-1] - u[i,j-1,k-1] - u[i,j+1,k+1])\n",
    "    Du[2] = D[0]*D[1]/D[2]*(u[i,j,k+1] - 2*u[i,j,k] + u[i,j,k-1])\n",
    "    return Du\n",
    "\n",
    "   \n",
    "'''\n",
    "function Du = DUdxdz(u,[dx,dy,dz],i,j,k)\n",
    "\n",
    "Evaluate local term for int_(north-south) du/dx_i dxdz\n",
    "\n",
    "matrix 'u' is an NxMxL array built using meshgrid\n",
    "'''\n",
    "def DUdxdz(u,D,i,j,k):\n",
    "    Du = [0,0,0]\n",
    "    Du[0] = 0.25*D[2]*(u[i-1,j+1,k] + u[i+1,j-1,k] - u[i+1,j+1,k] - u[i-1,j-1,k])\n",
    "    Du[1] = D[0]*D[2]/D[1]*(u[i,j+1,k] - 2*u[i,j,k] + u[i,j-1,k])\n",
    "    Du[2] = 0.25*D[0]*(u[i,j-1,k+1] + u[i,j+1,k-1] - u[i,j-1,k-1] - u[i,j+1,k+1])\n",
    "    return Du\n",
    "\n",
    "\n",
    "'''\n",
    "function Du = DUdydz(u,[dx,dy,dz],i,j,k)\n",
    "\n",
    " Evaluate local term for int_(east-west) du/dx_i dydz\n",
    "\n",
    " matrix 'u' is an NxMxL array built using meshgrid\n",
    "'''\n",
    "def DUdydz(u,D,i,j,k):\n",
    "\n",
    "    Du = [0,0,0]\n",
    "    Du[0] = (D[1]*D[2]/D[0])*( u[i+1,j,k] - 2*u[i,j,k] + u[i-1,j,k] )\n",
    "    Du[1] = 0.25*D[2]*(u[i+1,j+1,k] - u[i+1,j-1,k] - u[i-1,j+1,k] + u[i-1,j-1,k])\n",
    "    Du[2] = 0.25*D[1]*(u[i+1,j,k+1] - u[i+1,j,k-1] - u[i-1,j,k+1] + u[i-1,j,k-1])\n",
    "    return Du"
   ]
  },
  {
   "cell_type": "code",
   "execution_count": 185,
   "id": "4118c7a8",
   "metadata": {
    "scrolled": true
   },
   "outputs": [
    {
     "data": {
      "image/png": "[encoded data removed]",
      "text/plain": [
       "<Figure size 432x288 with 1 Axes>"
      ]
     },
     "metadata": {
      "needs_background": "light"
     },
     "output_type": "display_data"
    }
   ],
   "source": [
    "# plot image\n",
    "plt.imshow(data[20][2])\n",
    "plt.savefig('../presentation/images/brain_data.png')"
   ]
  },
  {
   "cell_type": "code",
   "execution_count": 196,
   "id": "c7e1f071",
   "metadata": {},
   "outputs": [
    {
     "data": {
      "text/plain": [
       "(3, 14, 17, 3)"
      ]
     },
     "execution_count": 196,
     "metadata": {},
     "output_type": "execute_result"
    }
   ],
   "source": [
    "U_fft = fft(data,axis=0)\n",
    "Uc = U_fft[1]\n",
    "U3d = np.zeros(shape=[3,3,14,17],dtype=complex)\n",
    "U3d[0] = Uc\n",
    "U3d[1] = Uc\n",
    "U3d[2] = Uc\n",
    "U3d = U3d.transpose(1, 2, 3, 0)\n",
    "U3d.shape"
   ]
  },
  {
   "cell_type": "code",
   "execution_count": 197,
   "id": "cceaefb0",
   "metadata": {},
   "outputs": [],
   "source": [
    "f = 0\n",
    "Ux = U3d[0]\n",
    "Uy = U3d[1]\n",
    "Uz = U3d[2]\n",
    "G = np.zeros(shape=[nx,ny,nz])\n",
    "for i in range(1,nx-1):\n",
    "    for j in range(1,ny-1):\n",
    "        for k in range(1,nz-1):\n",
    "            volume = dx*dy*dz\n",
    "            p = [Ux[i,j,k]*volume, Uy[i,j,k]*volume, Uz[i,j,k]*volume]\n",
    "            dV = [dx,dy,dz]\n",
    "            Uxxy = DUdxdy(Ux,dV,i,j,k)\n",
    "            Uyxy = DUdxdy(Uy,dV,i,j,k)\n",
    "            Uzxy = DUdxdy(Uz,dV,i,j,k)\n",
    "            Uxxz = DUdxdz(Ux,dV,i,j,k)\n",
    "            Uyxz = DUdxdz(Uy,dV,i,j,k)\n",
    "            Uzxz = DUdxdz(Uz,dV,i,j,k)\n",
    "            Uxyz = DUdydz(Ux,dV,i,j,k)\n",
    "            Uyyz = DUdydz(Uy,dV,i,j,k)\n",
    "            Uzyz = DUdydz(Uz,dV,i,j,k)\n",
    "            bx = [Uxyz[0], 0.5*(Uxyz[1]+Uyyz[0]), 0.5*(Uxyz[2]+Uzyz[0])]\n",
    "            by = [0.5*(Uxxz[1]+Uyxz[0]), Uyxz[1], 0.5*(Uyxz[2]+Uzxz[1])]\n",
    "            bz = [0.5*(Uxxy[2]+Uzxy[0]), 0.5*(Uyxy[2]+Uzxy[1]), Uzxy[2]]\n",
    "            b = [bx[n] + by[n] + bz[n] for n in range(0,3)]\n",
    "            \n",
    "            # Evaluation of shear modulus\n",
    "            G[i,j,k] =-rho*(2*np.pi*freq[f])**2/abs(np.vdot(b,b))*abs(np.vdot(b,p))\n",
    "            \n",
    "            \n",
    "            \n"
   ]
  },
  {
   "cell_type": "code",
   "execution_count": 198,
   "id": "0b6f41a5",
   "metadata": {},
   "outputs": [
    {
     "data": {
      "image/png": "[encoded data removed]",
      "text/plain": [
       "<Figure size 432x288 with 2 Axes>"
      ]
     },
     "metadata": {
      "needs_background": "light"
     },
     "output_type": "display_data"
    }
   ],
   "source": [
    "plt.imshow(abs(G[:,:,1]))\n",
    "plt.colorbar()\n",
    "plt.clim(abs(G).min(),abs(G).max()) \n",
    "plt.savefig('../presentation/images/shear_brain.png')"
   ]
  },
  {
   "cell_type": "code",
   "execution_count": 199,
   "id": "a94b21df",
   "metadata": {},
   "outputs": [],
   "source": [
    "Gnorm = abs(G[:,:,1]).mean() #np.linalg.norm(abs(G[:,:,1]),2)"
   ]
  },
  {
   "cell_type": "code",
   "execution_count": 182,
   "id": "dd27f0ad",
   "metadata": {},
   "outputs": [
    {
     "data": {
      "text/plain": [
       "1865.6207599112706"
      ]
     },
     "execution_count": 182,
     "metadata": {},
     "output_type": "execute_result"
    }
   ],
   "source": [
    "Gnorm"
   ]
  },
  {
   "cell_type": "code",
   "execution_count": null,
   "id": "5c9eb9a8",
   "metadata": {},
   "outputs": [],
   "source": []
  }
 ],
 "metadata": {
  "kernelspec": {
   "display_name": "Python 3",
   "language": "python",
   "name": "python3"
  },
  "language_info": {
   "codemirror_mode": {
    "name": "ipython",
    "version": 3
   },
   "file_extension": ".py",
   "mimetype": "text/x-python",
   "name": "python",
   "nbconvert_exporter": "python",
   "pygments_lexer": "ipython3",
   "version": "3.8.8"
  }
 },
 "nbformat": 4,
 "nbformat_minor": 5
}
